{
 "cells": [
  {
   "cell_type": "code",
   "execution_count": 5,
   "id": "6f889bc3",
   "metadata": {},
   "outputs": [
    {
     "name": "stdout",
     "output_type": "stream",
     "text": [
      "enter the exp: 6\n",
      "enter the salary: 30000\n",
      "total_salary= 31500.0\n",
      "bonus amount= 1500.0\n"
     ]
    }
   ],
   "source": [
    "# A company decided to give bonus of 5% to employee\n",
    "# if his/her year of service is more than 5 years.\n",
    "# Ask user for their salary and year of service\n",
    "# and print the net bonus amount .\n",
    "# Also try to print the net salary of emp after bonus.\n",
    "\n",
    "exp=int(input(\"enter the exp: \"))\n",
    "salary=int(input(\"enter the salary: \"))\n",
    "\n",
    "if exp>5:\n",
    "    bonus=salary*5/100\n",
    "    total_salary=bonus+salary\n",
    "    print(\"total_salary=\", total_salary)\n",
    "    print(\"bonus amount=\",bonus)\n",
    "else:\n",
    "    print(\"No bonus\")\n"
   ]
  },
  {
   "cell_type": "code",
   "execution_count": 3,
   "id": "160b2b2b",
   "metadata": {},
   "outputs": [
    {
     "name": "stdout",
     "output_type": "stream",
     "text": [
      "square\n"
     ]
    }
   ],
   "source": [
    "#  Take values of length and breadthof a rectangle\n",
    "# from user and check if it is square or not.\n",
    "\n",
    "l=23\n",
    "a=23\n",
    "b=23\n",
    "area_of_square=a**2\n",
    "area_of_rectangle=l*b\n",
    "\n",
    "if area_of_rectangle==area_of_square:\n",
    "   print(\"square\")\n",
    "else:\n",
    "     print(\"mujhe nahi pata kya shape hai\")"
   ]
  },
  {
   "cell_type": "code",
   "execution_count": 4,
   "id": "d60cf369",
   "metadata": {},
   "outputs": [
    {
     "name": "stdout",
     "output_type": "stream",
     "text": [
      "enter the num 1:23\n",
      "enter the num 2:75\n",
      "enter the num 3:48\n",
      "75\n"
     ]
    }
   ],
   "source": [
    "# take two int values from user and print greatest among them.\n",
    "a=int(input(\"enter the num 1:\"))\n",
    "b=int(input(\"enter the num 2:\"))\n",
    "c=int(input(\"enter the num 3:\"))\n",
    "\n",
    "if a>b and a>c:\n",
    "    print(a)\n",
    "elif b>a and b>c:\n",
    "     print(b)\n",
    "elif c>a and c>a:\n",
    "     print(c)\n",
    "else:\n",
    "    print(\" invailid input\")\n",
    "        \n",
    " \n",
    "\n"
   ]
  },
  {
   "cell_type": "code",
   "execution_count": 5,
   "id": "dc8fbd6e",
   "metadata": {},
   "outputs": [
    {
     "name": "stdout",
     "output_type": "stream",
     "text": [
      "enter the num 1:23\n",
      "enter the num 2:75\n",
      "enter the num 3:48\n",
      "23\n"
     ]
    }
   ],
   "source": [
    "# take two int values from user and print greatest among them.\n",
    "a=int(input(\"enter the num 1:\"))\n",
    "b=int(input(\"enter the num 2:\"))\n",
    "c=int(input(\"enter the num 3:\"))\n",
    "\n",
    "if a<b and a<c:\n",
    "    print(a)\n",
    "elif b<a and b<c:\n",
    "     print(b)\n",
    "elif c<a and c<a:\n",
    "     print(c)\n",
    "else:\n",
    "    print(\" invailid input\")"
   ]
  },
  {
   "cell_type": "code",
   "execution_count": null,
   "id": "13c55a43",
   "metadata": {},
   "outputs": [],
   "source": []
  }
 ],
 "metadata": {
  "kernelspec": {
   "display_name": "Python 3 (ipykernel)",
   "language": "python",
   "name": "python3"
  },
  "language_info": {
   "codemirror_mode": {
    "name": "ipython",
    "version": 3
   },
   "file_extension": ".py",
   "mimetype": "text/x-python",
   "name": "python",
   "nbconvert_exporter": "python",
   "pygments_lexer": "ipython3",
   "version": "3.9.12"
  }
 },
 "nbformat": 4,
 "nbformat_minor": 5
}
