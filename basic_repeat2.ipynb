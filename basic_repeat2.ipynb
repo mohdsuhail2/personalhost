{
 "cells": [
  {
   "cell_type": "code",
   "execution_count": 8,
   "id": "ee2ce0cd",
   "metadata": {},
   "outputs": [
    {
     "name": "stdout",
     "output_type": "stream",
     "text": [
      "1234567\n"
     ]
    }
   ],
   "source": [
    "# string---->'123456789'\n",
    "a='1234567'\n",
    "print(a)"
   ]
  },
  {
   "cell_type": "code",
   "execution_count": 9,
   "id": "4b3f59c5",
   "metadata": {},
   "outputs": [
    {
     "data": {
      "text/plain": [
       "str"
      ]
     },
     "execution_count": 9,
     "metadata": {},
     "output_type": "execute_result"
    }
   ],
   "source": [
    "type(a)"
   ]
  },
  {
   "cell_type": "code",
   "execution_count": 10,
   "id": "821858d2",
   "metadata": {},
   "outputs": [
    {
     "name": "stdout",
     "output_type": "stream",
     "text": [
      "hello bhai!!\n"
     ]
    }
   ],
   "source": [
    "a='hello bhai!!'\n",
    "print(a)"
   ]
  },
  {
   "cell_type": "code",
   "execution_count": 11,
   "id": "29af941c",
   "metadata": {},
   "outputs": [
    {
     "data": {
      "text/plain": [
       "str"
      ]
     },
     "execution_count": 11,
     "metadata": {},
     "output_type": "execute_result"
    }
   ],
   "source": [
    "type(a)"
   ]
  },
  {
   "cell_type": "code",
   "execution_count": 12,
   "id": "ea4ab5ec",
   "metadata": {},
   "outputs": [
    {
     "name": "stdout",
     "output_type": "stream",
     "text": [
      "mohdsuhail58731@gmail.com\n"
     ]
    }
   ],
   "source": [
    "a='mohdsuhail58731@gmail.com'\n",
    "print(a)"
   ]
  },
  {
   "cell_type": "code",
   "execution_count": 13,
   "id": "a9f43313",
   "metadata": {},
   "outputs": [
    {
     "data": {
      "text/plain": [
       "str"
      ]
     },
     "execution_count": 13,
     "metadata": {},
     "output_type": "execute_result"
    }
   ],
   "source": [
    "type(a)"
   ]
  },
  {
   "cell_type": "code",
   "execution_count": 15,
   "id": "6b3f8c1c",
   "metadata": {},
   "outputs": [
    {
     "name": "stdout",
     "output_type": "stream",
     "text": [
      "teenager\n"
     ]
    }
   ],
   "source": [
    "#there is an individual who was little.\n",
    "#bit confused about his adulthood.\n",
    "#wap to find that gut is adult or not??\n",
    "#hint---->18+ age--->adult\n",
    "#hint---->-18 age--->child\n",
    "\n",
    "age=18\n",
    "if age>18:\n",
    "    print(\"adult\")\n",
    "elif age==18:\n",
    "    print(\"teenager\")\n",
    "else:\n",
    "    print(\"child\")"
   ]
  },
  {
   "cell_type": "code",
   "execution_count": 17,
   "id": "a95b0926",
   "metadata": {},
   "outputs": [
    {
     "name": "stdout",
     "output_type": "stream",
     "text": [
      "Not sq\n"
     ]
    }
   ],
   "source": [
    "# rule for elif\n",
    "# use after if\n",
    "# use else after elif\n",
    "\n",
    "#take values of lengthand breadth  of a \n",
    "#rectantgle from user and check\n",
    "#if it is square or not.\n",
    "\n",
    "l=7\n",
    "a=2\n",
    "b=3\n",
    "area_of_rec=l*b\n",
    "area_of_sq=a**2\n",
    "if area_of_rec==area_of_sq:\n",
    "    print(\"sq\")\n",
    "else:\n",
    "    print(\"Not sq\")"
   ]
  },
  {
   "cell_type": "code",
   "execution_count": 27,
   "id": "5674db86",
   "metadata": {},
   "outputs": [
    {
     "ename": "IndentationError",
     "evalue": "unexpected indent (2975779115.py, line 6)",
     "output_type": "error",
     "traceback": [
      "\u001b[1;36m  Input \u001b[1;32mIn [27]\u001b[1;36m\u001b[0m\n\u001b[1;33m    unit_price=100\u001b[0m\n\u001b[1;37m    ^\u001b[0m\n\u001b[1;31mIndentationError\u001b[0m\u001b[1;31m:\u001b[0m unexpected indent\n"
     ]
    }
   ],
   "source": [
    "# A shop will give discount of 10% if the cost \n",
    "# of purchased quantity is more than 10.\n",
    "# ask user for quantity\n",
    "# suppose , one unit will cost for user.\n",
    "\n",
    " unit_price=100\n",
    "    purchase=11\n",
    "    price=unit_price*purchase\n",
    "    \n",
    "if price>=1000:\n",
    "    dis=(price*10)/100\n",
    "    pay=price-dis\n",
    "    print(dis)\n",
    "    print(pay)"
   ]
  },
  {
   "cell_type": "code",
   "execution_count": 33,
   "id": "7f8a5753",
   "metadata": {},
   "outputs": [
    {
     "name": "stdout",
     "output_type": "stream",
     "text": [
      "enter your marks:81\n",
      "grade A\n"
     ]
    }
   ],
   "source": [
    "# A school has following rules for grading system:\n",
    "# a.below 25 - F\n",
    "# b.25 to 45 - E\n",
    "# c.45 to 50 - D \n",
    "# d.50 to 60 - C\n",
    "# e.60 to 80 - B\n",
    "# f.above 80 - A\n",
    "# Aks user to enter marks and print the corresponding grade.\n",
    "\n",
    "marks=int(input(\"enter your marks:\"))\n",
    "if marks>80:\n",
    "    print(\"grade A\")\n",
    "elif marks>60 and marks<=80:\n",
    "    print(\"grade B\")\n",
    "elif marks>50 and marks<=60:\n",
    "    print(\"grade C\")\n",
    "elif marks>45 and marks<=50:\n",
    "    print(\"grade D\")\n",
    "elif marks>25 and marks<=45:\n",
    "    print(\"grade E\") \n",
    "elif marks<25:\n",
    "    print(\"F\")\n",
    "    \n"
   ]
  },
  {
   "cell_type": "code",
   "execution_count": 38,
   "id": "62c18152",
   "metadata": {},
   "outputs": [
    {
     "name": "stdout",
     "output_type": "stream",
     "text": [
      "79.16666666666666\n",
      "allowed\n"
     ]
    }
   ],
   "source": [
    "# A student will not be allowed to sit in \n",
    "# exam if his attendance is less than 75%.\n",
    "\n",
    "# Take following input from user \n",
    "# Number of classes held.\n",
    "# Number of classes attended.\n",
    "# And print\n",
    "# percentage of class attended\n",
    "# Is student is allowed to sit in exam or not.\n",
    "\n",
    "class_held=120\n",
    "attend_class=95\n",
    "\n",
    "per_class_attend=(attend_class/class_held)*100\n",
    "print(per_class_attend)\n",
    "if per_class_attend>75:\n",
    "    print(\"allowed\")\n",
    "else:\n",
    "    print(\"Not allowed\")"
   ]
  },
  {
   "cell_type": "code",
   "execution_count": 1,
   "id": "c2680421",
   "metadata": {},
   "outputs": [
    {
     "name": "stdout",
     "output_type": "stream",
     "text": [
      "76.0\n",
      "allowed\n"
     ]
    }
   ],
   "source": [
    "# Modify the above quetion to allow \n",
    "# student to sit if he has medical\n",
    "# cause ,Ask user if he has medical\n",
    "#cause or  not ('Y'or 'N') and \n",
    "# print accordingly\n",
    "\n",
    "class_held=100\n",
    "attend_class=76\n",
    "per_class_attend=(attend_class/class_held)*100\n",
    "print(per_class_attend)\n",
    "\n",
    "if per_class_attend>75:\n",
    "        print(\"allowed\")\n",
    "else:\n",
    "    med=input(\"type Y for yes & N for no for medical\")\n",
    "    if med==\"Y\":\n",
    "        print(\"allowed\")\n",
    "    else:\n",
    "         print(\"Not allowed\")\n",
    "    \n",
    "\n"
   ]
  },
  {
   "cell_type": "code",
   "execution_count": 2,
   "id": "3ece43a2",
   "metadata": {},
   "outputs": [
    {
     "name": "stdout",
     "output_type": "stream",
     "text": [
      "68\n"
     ]
    }
   ],
   "source": [
    "a=23\n",
    "b=45\n",
    "c=a+b\n",
    "print(c)"
   ]
  },
  {
   "cell_type": "code",
   "execution_count": null,
   "id": "c4856845",
   "metadata": {},
   "outputs": [],
   "source": []
  }
 ],
 "metadata": {
  "kernelspec": {
   "display_name": "Python 3 (ipykernel)",
   "language": "python",
   "name": "python3"
  },
  "language_info": {
   "codemirror_mode": {
    "name": "ipython",
    "version": 3
   },
   "file_extension": ".py",
   "mimetype": "text/x-python",
   "name": "python",
   "nbconvert_exporter": "python",
   "pygments_lexer": "ipython3",
   "version": "3.9.12"
  }
 },
 "nbformat": 4,
 "nbformat_minor": 5
}
