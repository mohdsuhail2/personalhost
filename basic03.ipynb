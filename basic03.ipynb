{
 "cells": [
  {
   "cell_type": "code",
   "execution_count": 2,
   "id": "25f919e7",
   "metadata": {},
   "outputs": [
    {
     "name": "stdout",
     "output_type": "stream",
     "text": [
      "enter the something: qywteygbn123#@123\n",
      "qywteygbn123#@123\n"
     ]
    }
   ],
   "source": [
    "# user input --->\n",
    "# syntax -----> inp(\"msg\")\n",
    "# operation\n",
    "x=input(\"enter the something: \")\n",
    "print(x)"
   ]
  },
  {
   "cell_type": "code",
   "execution_count": 4,
   "id": "1f3e3d38",
   "metadata": {},
   "outputs": [
    {
     "name": "stdout",
     "output_type": "stream",
     "text": [
      "enter the first number24\n",
      "enter the second number89\n",
      "113\n"
     ]
    }
   ],
   "source": [
    "\n",
    "a=int(input(\"enter the first number\"))\n",
    "b=int(input(\"enter the second number\"))\n",
    "c=a+b\n",
    "print(c)\n"
   ]
  },
  {
   "cell_type": "code",
   "execution_count": 5,
   "id": "0e56aec4",
   "metadata": {},
   "outputs": [
    {
     "name": "stdout",
     "output_type": "stream",
     "text": [
      "1235\n"
     ]
    }
   ],
   "source": [
    "a=\"12\"\n",
    "b=\"35\"\n",
    "c=a+b\n",
    "print(c)"
   ]
  },
  {
   "cell_type": "code",
   "execution_count": 6,
   "id": "c5fc4990",
   "metadata": {},
   "outputs": [
    {
     "name": "stdout",
     "output_type": "stream",
     "text": [
      "enter the first number45\n",
      "enter the second number23\n",
      "68.0\n"
     ]
    }
   ],
   "source": [
    "a=float(input(\"enter the first number\"))\n",
    "b=int(input(\"enter the second number\"))\n",
    "c=a+b\n",
    "print(c)"
   ]
  },
  {
   "cell_type": "code",
   "execution_count": 7,
   "id": "aaf6eb06",
   "metadata": {},
   "outputs": [
    {
     "name": "stdout",
     "output_type": "stream",
     "text": [
      "enter the first number25\n",
      "enter the second number24\n",
      "49\n"
     ]
    }
   ],
   "source": [
    "a=int(input(\"enter the first number\"))\n",
    "b=int(input(\"enter the second number\"))\n",
    "c=a+b\n",
    "print(c)\n"
   ]
  },
  {
   "cell_type": "code",
   "execution_count": null,
   "id": "f04ae95e",
   "metadata": {},
   "outputs": [],
   "source": [
    "a=float(input(\"enter the first number\"))\n",
    "b=int(input(\"enter the second number\"))\n",
    "c=a+b\n",
    "print(c)\n"
   ]
  },
  {
   "cell_type": "code",
   "execution_count": null,
   "id": "4d24c3a0",
   "metadata": {},
   "outputs": [],
   "source": [
    "a=34\n",
    "b=float(a)\n",
    "print(b)"
   ]
  },
  {
   "cell_type": "code",
   "execution_count": null,
   "id": "fd3eb867",
   "metadata": {},
   "outputs": [],
   "source": [
    "a=int(input(\"enter the first num\"))\n",
    "b=input(\"enter the second num\")\n",
    "c=a+b\n",
    "print(c)"
   ]
  },
  {
   "cell_type": "code",
   "execution_count": 2,
   "id": "5f78181e",
   "metadata": {},
   "outputs": [
    {
     "name": "stdout",
     "output_type": "stream",
     "text": [
      "enter the marks112\n",
      "enter the marks216\n",
      "enter the marks323\n",
      "17.0\n"
     ]
    }
   ],
   "source": [
    "# wap to find the avg of astudent in 3 subject?\n",
    "\n",
    "a=int(input(\"enter the marks1\"))\n",
    "b=int(input(\"enter the marks2\"))\n",
    "c=int(input(\"enter the marks3\"))\n",
    "avg=(a+b+c)/3\n",
    "print(avg)\n"
   ]
  },
  {
   "cell_type": "code",
   "execution_count": 3,
   "id": "99cb01d3",
   "metadata": {},
   "outputs": [
    {
     "name": "stdout",
     "output_type": "stream",
     "text": [
      "vote daalna allow hai\n"
     ]
    }
   ],
   "source": [
    "# Condition!!\n",
    "# sysntax--->\n",
    "# if condition:\n",
    "# print tne msg\n",
    "# else:\n",
    "#       print the msg\n",
    "    \n",
    "age=18\n",
    "if age>=18:\n",
    "   print(\"vote daalna allow hai\")\n",
    "else:\n",
    "    print(\"vote daalna allow nahi hai\")\n",
    "    \n"
   ]
  },
  {
   "cell_type": "code",
   "execution_count": 5,
   "id": "0f1a7d9a",
   "metadata": {},
   "outputs": [
    {
     "name": "stdout",
     "output_type": "stream",
     "text": [
      "vote daalna allow hai\n"
     ]
    }
   ],
   "source": [
    "age=18\n",
    "if age>=18:\n",
    "   print(\"vote daalna allow hai\")\n",
    "elif age==18:\n",
    "    print(\"first time voter\")\n",
    "else:\n",
    "    print(\"vote daalna allow nahi hai\")\n",
    "    "
   ]
  },
  {
   "cell_type": "code",
   "execution_count": 6,
   "id": "b2f86084",
   "metadata": {},
   "outputs": [
    {
     "name": "stdout",
     "output_type": "stream",
     "text": [
      "odd\n"
     ]
    }
   ],
   "source": [
    "# wap to the odd and even number.\n",
    "# wap to find a individual is a child or adult.\n",
    "# wapto find the if it is rainy outside or not\n",
    "# condition is if temp is 20 degree then it is rainy.\n",
    "# wap to print holiday if the day is sunday otherwise .\n",
    "# print boring day.\n",
    "\n",
    "a=49\n",
    "if a%2==0:\n",
    "    print(\"even\")\n",
    "else:\n",
    "    print(\"odd\")"
   ]
  },
  {
   "cell_type": "code",
   "execution_count": 10,
   "id": "44d768c7",
   "metadata": {},
   "outputs": [
    {
     "name": "stdout",
     "output_type": "stream",
     "text": [
      "enter the age23\n",
      "adult\n"
     ]
    }
   ],
   "source": [
    "# wap to find a individualis a child or adult.\n",
    "age=int(input(\"enter the age\"))\n",
    "if age>18:\n",
    "    print(\"adult\")\n",
    "else:\n",
    "    print(\"chhoti bachhi ho kya !!\")"
   ]
  },
  {
   "cell_type": "code",
   "execution_count": 14,
   "id": "92665f21",
   "metadata": {},
   "outputs": [
    {
     "name": "stdout",
     "output_type": "stream",
     "text": [
      "enter the day: sunday\n",
      "holiday\n"
     ]
    }
   ],
   "source": [
    "# wap to print holiday if the day is sunday otherwise \n",
    "# print boring day.\n",
    "\n",
    "day=input(\"enter the day: \")\n",
    "if day==\"sunday\":\n",
    "    print(\"holiday\")\n",
    "else:\n",
    "    print(\"boring day !\")"
   ]
  },
  {
   "cell_type": "code",
   "execution_count": 19,
   "id": "1ab6320c",
   "metadata": {},
   "outputs": [
    {
     "name": "stdout",
     "output_type": "stream",
     "text": [
      "barso re mega bhai !!\n"
     ]
    }
   ],
   "source": [
    "# wap to find the if it is rainy outside or not \n",
    "# condition is if temp is 20 degree then it is rainy.\n",
    "\n",
    "temp=20\n",
    "if temp==20:\n",
    "   print(\"barso re mega bhai !!\")\n"
   ]
  },
  {
   "cell_type": "code",
   "execution_count": null,
   "id": "e2a711f5",
   "metadata": {},
   "outputs": [],
   "source": []
  }
 ],
 "metadata": {
  "kernelspec": {
   "display_name": "Python 3 (ipykernel)",
   "language": "python",
   "name": "python3"
  },
  "language_info": {
   "codemirror_mode": {
    "name": "ipython",
    "version": 3
   },
   "file_extension": ".py",
   "mimetype": "text/x-python",
   "name": "python",
   "nbconvert_exporter": "python",
   "pygments_lexer": "ipython3",
   "version": "3.9.12"
  }
 },
 "nbformat": 4,
 "nbformat_minor": 5
}
